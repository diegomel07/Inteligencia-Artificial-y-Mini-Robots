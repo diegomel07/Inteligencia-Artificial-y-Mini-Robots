{
  "nbformat": 4,
  "nbformat_minor": 0,
  "metadata": {
    "colab": {
      "provenance": []
    },
    "kernelspec": {
      "name": "python3",
      "display_name": "Python 3"
    },
    "language_info": {
      "name": "python"
    }
  },
  "cells": [
    {
      "cell_type": "markdown",
      "source": [
        "El objetivo de este proyecto es sintetizar automáticamente una función lógica para controlar el segmento 'a' de un display de 7 segmentos, a partir de un número binario de 4 bits que representa un dígito decimal del 0 al 9.\n",
        "\n",
        "Diseñar la lógica que controla cada segmento puede hacerse manualmente con mapas de Karnaugh, pero aquí se propone un enfoque evolutivo: utilizar Programación Genética (GP) para descubrir automáticamente una expresión lógica equivalente a través de un proceso de selección y evolución.\n"
      ],
      "metadata": {
        "id": "o3dIcMOrvLfK"
      }
    },
    {
      "cell_type": "code",
      "source": [
        "!pip install deap\n",
        "\n"
      ],
      "metadata": {
        "colab": {
          "base_uri": "https://localhost:8080/"
        },
        "id": "HqmS5QK9t8r-",
        "outputId": "2455e81f-8c81-40f2-fc6f-d82d8820da36"
      },
      "execution_count": null,
      "outputs": [
        {
          "output_type": "stream",
          "name": "stdout",
          "text": [
            "Collecting deap\n",
            "  Downloading deap-1.4.3-cp311-cp311-manylinux_2_5_x86_64.manylinux1_x86_64.manylinux_2_17_x86_64.manylinux2014_x86_64.whl.metadata (13 kB)\n",
            "Requirement already satisfied: numpy in /usr/local/lib/python3.11/dist-packages (from deap) (2.0.2)\n",
            "Downloading deap-1.4.3-cp311-cp311-manylinux_2_5_x86_64.manylinux1_x86_64.manylinux_2_17_x86_64.manylinux2014_x86_64.whl (135 kB)\n",
            "\u001b[?25l   \u001b[90m━━━━━━━━━━━━━━━━━━━━━━━━━━━━━━━━━━━━━━━━\u001b[0m \u001b[32m0.0/135.6 kB\u001b[0m \u001b[31m?\u001b[0m eta \u001b[36m-:--:--\u001b[0m\r\u001b[2K   \u001b[90m━━━━━━━━━━━━━━━━━━━━━━━━━━━━━━━━━━━━━━━━\u001b[0m \u001b[32m135.6/135.6 kB\u001b[0m \u001b[31m10.6 MB/s\u001b[0m eta \u001b[36m0:00:00\u001b[0m\n",
            "\u001b[?25hInstalling collected packages: deap\n",
            "Successfully installed deap-1.4.3\n"
          ]
        }
      ]
    },
    {
      "cell_type": "code",
      "execution_count": null,
      "metadata": {
        "colab": {
          "base_uri": "https://localhost:8080/"
        },
        "id": "Zo_oNlRcq0Cq",
        "outputId": "c8cd0189-d173-4f71-c4f6-898aaa24e22d"
      },
      "outputs": [
        {
          "output_type": "stream",
          "name": "stdout",
          "text": [
            "gen\tnevals\tavg \tmax\n",
            "0  \t100   \t5.22\t8  \n",
            "1  \t55    \t6.48\t8  \n",
            "2  \t63    \t7.15\t8  \n",
            "3  \t64    \t7.45\t8  \n",
            "4  \t52    \t7.29\t8  \n",
            "5  \t60    \t7.44\t8  \n",
            "6  \t59    \t7.64\t8  \n",
            "7  \t56    \t7.61\t8  \n",
            "8  \t63    \t7.64\t8  \n",
            "9  \t55    \t7.55\t8  \n",
            "10 \t60    \t7.61\t8  \n",
            "11 \t58    \t7.72\t8  \n",
            "12 \t48    \t7.69\t8  \n",
            "13 \t75    \t7.5 \t8  \n",
            "14 \t57    \t7.63\t8  \n",
            "15 \t68    \t7.62\t8  \n",
            "16 \t60    \t7.68\t8  \n",
            "17 \t58    \t7.76\t8  \n",
            "18 \t57    \t7.83\t8  \n",
            "19 \t59    \t7.86\t8  \n",
            "20 \t48    \t7.86\t8  \n",
            "21 \t56    \t7.87\t8  \n",
            "22 \t64    \t7.75\t9  \n",
            "23 \t57    \t7.85\t9  \n",
            "24 \t56    \t7.91\t9  \n",
            "25 \t58    \t7.88\t9  \n",
            "26 \t61    \t7.87\t9  \n",
            "27 \t58    \t8.18\t9  \n",
            "28 \t65    \t8.22\t9  \n",
            "29 \t60    \t8.2 \t9  \n",
            "30 \t58    \t8.42\t9  \n",
            "31 \t57    \t8.38\t9  \n",
            "32 \t57    \t8.48\t9  \n",
            "33 \t55    \t8.35\t9  \n",
            "34 \t52    \t8.41\t9  \n",
            "35 \t68    \t8.51\t9  \n",
            "36 \t57    \t8.61\t9  \n",
            "37 \t56    \t8.54\t9  \n",
            "38 \t59    \t8.49\t9  \n",
            "39 \t63    \t8.4 \t9  \n",
            "40 \t69    \t8.39\t9  \n",
            "\n",
            "🏆 Mejor individuo (para segmento 'a'):\n",
            "NAND(AND(OR(0, NOR(C, D)), NOR(A, A)), B)\n",
            "Aciertos: 9.0 / 10\n"
          ]
        }
      ],
      "source": [
        "from deap import base, creator, gp, tools, algorithms\n",
        "import operator\n",
        "import random\n",
        "\n",
        "# -----------------------------\n",
        "# Tabla de verdad para el segmento 'a' (decimal → valor segmento 'a')\n",
        "# Entradas: A, B, C, D (bits de 4)\n",
        "# Salidas: 1 si el segmento 'a' se enciende, 0 si no\n",
        "tabla_verdad = [\n",
        "    ((0, 0, 0, 0), 1),  # 0\n",
        "    ((0, 0, 0, 1), 0),  # 1\n",
        "    ((0, 0, 1, 0), 1),  # 2\n",
        "    ((0, 0, 1, 1), 1),  # 3\n",
        "    ((0, 1, 0, 0), 0),  # 4\n",
        "    ((0, 1, 0, 1), 1),  # 5\n",
        "    ((0, 1, 1, 0), 1),  # 6\n",
        "    ((0, 1, 1, 1), 1),  # 7\n",
        "    ((1, 0, 0, 0), 1),  # 8\n",
        "    ((1, 0, 0, 1), 1),  # 9\n",
        "]\n",
        "\n",
        "# -----------------------------\n",
        "# Operadores lógicos\n",
        "def AND(a, b): return a & b\n",
        "def OR(a, b): return a | b\n",
        "def NOT(a): return ~a & 1\n",
        "def NAND(a, b): return ~(a & b) & 1\n",
        "def NOR(a, b): return ~(a | b) & 1\n",
        "def XOR(a, b): return a ^ b\n",
        "\n",
        "# -----------------------------\n",
        "# Configuración del entorno GP\n",
        "pset = gp.PrimitiveSet(\"MAIN\", 4)\n",
        "pset.renameArguments(ARG0='A', ARG1='B', ARG2='C', ARG3='D')\n",
        "\n",
        "pset.addPrimitive(AND, 2)\n",
        "pset.addPrimitive(OR, 2)\n",
        "pset.addPrimitive(NOT, 1)\n",
        "pset.addPrimitive(NAND, 2)\n",
        "pset.addPrimitive(NOR, 2)\n",
        "pset.addPrimitive(XOR, 2)\n",
        "\n",
        "pset.addTerminal(0)\n",
        "pset.addTerminal(1)\n",
        "\n",
        "creator.create(\"FitnessMax\", base.Fitness, weights=(1.0,))\n",
        "creator.create(\"Individual\", gp.PrimitiveTree, fitness=creator.FitnessMax)\n",
        "\n",
        "toolbox = base.Toolbox()\n",
        "toolbox.register(\"expr\", gp.genHalfAndHalf, pset=pset, min_=1, max_=3)\n",
        "toolbox.register(\"individual\", tools.initIterate, creator.Individual, toolbox.expr)\n",
        "toolbox.register(\"population\", tools.initRepeat, list, toolbox.individual)\n",
        "\n",
        "# -----------------------------\n",
        "# Función de evaluación\n",
        "def eval_segmento_a(ind):\n",
        "    func = toolbox.compile(expr=ind)\n",
        "    aciertos = 0\n",
        "    for entrada, salida_esperada in tabla_verdad:\n",
        "        try:\n",
        "            salida = func(*entrada)\n",
        "            if salida == salida_esperada:\n",
        "                aciertos += 1\n",
        "        except Exception:\n",
        "            pass\n",
        "    return aciertos,\n",
        "\n",
        "toolbox.register(\"compile\", gp.compile, pset=pset)\n",
        "toolbox.register(\"evaluate\", eval_segmento_a)\n",
        "toolbox.register(\"select\", tools.selTournament, tournsize=3)\n",
        "toolbox.register(\"mate\", gp.cxOnePoint)\n",
        "toolbox.register(\"mutate\", gp.mutUniform, expr=toolbox.expr, pset=pset)\n",
        "toolbox.decorate(\"mate\", gp.staticLimit(key=len, max_value=17))\n",
        "toolbox.decorate(\"mutate\", gp.staticLimit(key=len, max_value=17))\n",
        "\n",
        "# -----------------------------\n",
        "# Ejecutar el algoritmo\n",
        "if __name__ == \"__main__\":\n",
        "    random.seed(42)\n",
        "    poblacion = toolbox.population(n=100)\n",
        "    hof = tools.HallOfFame(1)\n",
        "\n",
        "    stats = tools.Statistics(lambda ind: ind.fitness.values)\n",
        "    stats.register(\"avg\", lambda x: round(sum(v[0] for v in x) / len(x), 2))\n",
        "    stats.register(\"max\", lambda x: max(v[0] for v in x))\n",
        "\n",
        "    poblacion, log = algorithms.eaSimple(\n",
        "        poblacion, toolbox,\n",
        "        cxpb=0.5, mutpb=0.2,\n",
        "        ngen=40, stats=stats, halloffame=hof, verbose=True\n",
        "    )\n",
        "\n",
        "    print(\"\\n🏆 Mejor individuo (para segmento 'a'):\")\n",
        "    print(hof[0])\n",
        "    print(f\"Aciertos: {hof[0].fitness.values[0]} / 10\")\n"
      ]
    },
    {
      "cell_type": "markdown",
      "source": [],
      "metadata": {
        "id": "z90aGUgsvINC"
      }
    }
  ]
}