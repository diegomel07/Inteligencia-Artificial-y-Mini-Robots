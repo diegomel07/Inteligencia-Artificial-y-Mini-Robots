{
  "cells": [
    {
      "cell_type": "markdown",
      "metadata": {
        "id": "l1Oae-i2UQtt"
      },
      "source": [
        "Algoritmo Genetico para la Reproduccion de Conversaciones. Este algoritmo reproduce una conversacion usando un algoritmo genetico (AG) a traves de evolucionar valores de caracteres."
      ]
    },
    {
      "cell_type": "code",
      "execution_count": 2,
      "metadata": {
        "id": "mpLVApp0jHeX"
      },
      "outputs": [],
      "source": [
        "import numpy as np\n",
        "import matplotlib.pyplot as plt\n",
        "import functools\n",
        "import operator\n",
        "import random\n",
        "import itertools\n",
        "from PIL import Image\n",
        "\n",
        "def initial_population(text_len, n_individuals=8):\n",
        "    \"\"\"\n",
        "    Crear población inicial con caracteres aleatorios.\n",
        "    \"\"\"\n",
        "    universe = '''abcdefghijklmnopqrstuvwxyzABCDEFGHIJKLMNOPQRSTUVWXYZ 1234567890, .-;:_!\"#%&/()=?@${[]}'''\n",
        "    pob = [list(''.join(random.choices(universe, k=text_len))) for _ in range(n_individuals)]\n",
        "    return pob\n",
        "\n",
        "def fitness_fun(target_chrom, indiv_chrom):\n",
        "    \"\"\"\n",
        "    Calcular aptitud como el número de caracteres distintos al objetivo.\n",
        "    Aptitud menor es mejor.\n",
        "    \"\"\"\n",
        "    quality = sum(1 for a, b in zip(target_chrom, indiv_chrom) if a != b)\n",
        "    return quality\n",
        "\n",
        "def cal_pop_fitness(target_chrom, pop):\n",
        "    \"\"\"\n",
        "    Calcular la Aptitud para cada individuo en la población.\n",
        "    \"\"\"\n",
        "    return [fitness_fun(target_chrom, indiv) for indiv in pop]\n",
        "\n",
        "def select_mating_pool(pop, qualities, num_parents):\n",
        "    \"\"\"\n",
        "    Seleccionar los mejores individuos según Aptitud (los de menor valor).\n",
        "    \"\"\"\n",
        "    pop_with_qual = list(zip(pop, qualities))\n",
        "    sorted_pop = sorted(pop_with_qual, key=lambda x: x[1])  # menor es mejor\n",
        "    best_parents = [x[0] for x in sorted_pop[:num_parents]]\n",
        "    return best_parents\n",
        "\n",
        "def crossover(parents, text_len, n_individuals=8):\n",
        "    \"\"\"\n",
        "    Cruzar genes de padres seleccionados con probabilidades tipo ruleta.\n",
        "    \"\"\"\n",
        "    new_population = parents.copy()\n",
        "    num_newly_generated = n_individuals - len(parents)\n",
        "    parents_permutations = list(itertools.permutations(parents, 2))\n",
        "    selected_permutations = random.sample(parents_permutations, num_newly_generated)\n",
        "\n",
        "    for p1, p2 in selected_permutations:\n",
        "        child = []\n",
        "        for g1, g2 in zip(p1, p2):\n",
        "            prob = random.random()\n",
        "            if prob < 0.45:\n",
        "                child.append(g1)\n",
        "            elif prob < 0.90:\n",
        "                child.append(g2)\n",
        "            else:\n",
        "                child.append(random.choice('abcdefghijklmnopqrstuvwxyzABCDEFGHIJKLMNOPQRSTUVWXYZ 1234567890, .-;:_!\"#%&/()=?@${[]}'))\n",
        "        new_population.append(child)\n",
        "    return new_population\n",
        "\n",
        "def mutation(population, num_parents_mating, mut_percent):\n",
        "    \"\"\"\n",
        "    Aplicar mutación aleatoria a individuos después de los padres.\n",
        "    \"\"\"\n",
        "    chars_posibles = list('abcdefghijklmnopqrstuvwxyzABCDEFGHIJKLMNOPQRSTUVWXYZ 1234567890, .-;:_!\"#%&/()=?@${[]}')\n",
        "    for idx in range(num_parents_mating, len(population)):\n",
        "        individual = population[idx]\n",
        "        num_genes = len(individual)\n",
        "        num_mutations = max(1, int(mut_percent / 100 * num_genes))\n",
        "\n",
        "        rand_idx = random.sample(range(num_genes), num_mutations)\n",
        "        new_chars = random.choices(chars_posibles, k=num_mutations)\n",
        "\n",
        "        for i, new_char in zip(rand_idx, new_chars):\n",
        "            individual[i] = new_char\n",
        "\n",
        "        population[idx] = individual\n",
        "    return population"
      ]
    },
    {
      "cell_type": "code",
      "execution_count": 3,
      "metadata": {
        "colab": {
          "base_uri": "https://localhost:8080/"
        },
        "id": "rXaDiEMdjNBc",
        "outputId": "091dc5c0-8952-4a8e-ea73-bceca6aba7ba"
      },
      "outputs": [
        {
          "output_type": "stream",
          "name": "stdout",
          "text": [
            "[['p', 'r', 'o', 'b', 'a', 'n', 'o', 'd', ' ', 'e', 'l', ' ', 'a', 'g'], ['p', 'r', 'o', 'b', 'a', 'n', 'o', 'd', ' ', 'e', 'l', ' ', 'a', 'g'], ['p', 'r', 'o', 'b', 'a', 'n', 'o', 'd', ' ', 'e', 'l', ' ', 'a', 'g'], ['p', 'r', 'o', 'b', 'a', 'n', 'o', 'd', ' ', 'e', 'l', ' ', 'a', 'g'], ['p', ':', 'o', 'b', 'a', 'n', 'o', 'd', ' ', 'e', 'l', ' ', 'a', 'g'], ['p', 'r', 'o', 'b', 'a', 'n', 'n', 'Z', ' ', 'v', 'l', ' ', 'a', 'g'], ['C', 'r', 'o', 'b', 'a', 'n', 'o', 'd', ' ', 'e', 'l', ' ', 'a', 'g'], ['p', 'r', 'o', 'b', 'V', 'n', 'o', 'd', ' ', 'e', 'l', ' ', 'a', 'g']]\n"
          ]
        }
      ],
      "source": [
        "target_chromosome = list(\"probanod el ag\")\n",
        "\n",
        "# Population size\n",
        "sol_per_pop = 8\n",
        "# Mating pool size\n",
        "num_parents_mating = 4\n",
        "# Mutation percentage\n",
        "mutation_percent = .01\n",
        "\n",
        "\n",
        "# Creating an initial population randomly.\n",
        "new_population = initial_population(text_len=len(target_chromosome),\n",
        "                                    n_individuals=sol_per_pop)\n",
        "\n",
        "for iteration in range(100000):\n",
        "    # Measing the fitness of each chromosome in the population.\n",
        "    qualities = cal_pop_fitness(target_chromosome,\n",
        "                                new_population)\n",
        "    #print('Quality : ', np.max(qualities), ', Iteration : ', iteration)\n",
        "\n",
        "    # Selecting the best parents in the population for mating.\n",
        "    parents = select_mating_pool(new_population,\n",
        "                                 qualities,\n",
        "                                 num_parents_mating)\n",
        "\n",
        "\n",
        "    # Generating next generation using crossover.\n",
        "    new_population = crossover(parents,\n",
        "                               len(target_chromosome),\n",
        "                               n_individuals=sol_per_pop)\n",
        "\n",
        "    new_population = mutation(population=new_population,\n",
        "                              num_parents_mating=num_parents_mating,\n",
        "                              mut_percent=mutation_percent)\n",
        "\n",
        "print(new_population)\n"
      ]
    }
  ],
  "metadata": {
    "colab": {
      "provenance": []
    },
    "kernelspec": {
      "display_name": "Python 3",
      "name": "python3"
    },
    "language_info": {
      "name": "python"
    }
  },
  "nbformat": 4,
  "nbformat_minor": 0
}