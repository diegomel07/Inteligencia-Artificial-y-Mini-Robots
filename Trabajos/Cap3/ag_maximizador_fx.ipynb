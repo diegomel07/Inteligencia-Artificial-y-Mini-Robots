{
  "nbformat": 4,
  "nbformat_minor": 0,
  "metadata": {
    "colab": {
      "provenance": []
    },
    "kernelspec": {
      "name": "python3",
      "display_name": "Python 3"
    },
    "language_info": {
      "name": "python"
    }
  },
  "cells": [
    {
      "cell_type": "markdown",
      "source": [
        "El objetivo es maximizar la función no lineal:\n",
        "\n",
        "𝑓\n",
        "(\n",
        "𝑥\n",
        ")\n",
        "=\n",
        "𝑥\n",
        "⋅\n",
        "sin\n",
        "⁡\n",
        "(\n",
        "10\n",
        "𝜋\n",
        "𝑥\n",
        ")\n",
        "+\n",
        "1\n",
        ",\n",
        "con\n",
        "𝑥\n",
        "∈\n",
        "[\n",
        "0\n",
        ",\n",
        "1\n",
        "]\n",
        "Esta función tiene múltiples máximos locales debido a la componente trigonométrica, lo que la convierte en un buen caso de estudio para algoritmos de optimización heurística, como los algoritmos genéticos (AG). Métodos clásicos de optimización como el gradiente pueden quedar atrapados en óptimos locales, mientras que los AG, por su naturaleza evolutiva y estocástica, pueden explorar mejor el espacio de búsqueda.\n",
        "\n",
        "El programa utiliza un algoritmo genético básico para encontrar el valor de\n",
        "𝑥 que maximiza la función\n",
        "𝑓(𝑥)\n",
        "en el intervalo\n",
        "[\n",
        "0\n",
        ",\n",
        "1\n",
        "]\n",
        "[0,1].\n"
      ],
      "metadata": {
        "id": "CHkiCzCHbBNl"
      }
    },
    {
      "cell_type": "code",
      "execution_count": 1,
      "metadata": {
        "colab": {
          "base_uri": "https://localhost:8080/",
          "height": 507
        },
        "id": "2tHNJavvY7fi",
        "outputId": "9a4c849c-ef2b-4b24-bcd5-ac9c3a25a6c3"
      },
      "outputs": [
        {
          "output_type": "stream",
          "name": "stdout",
          "text": [
            "Mejor x encontrado: 0.8515754940108339\n",
            "f(x) = 1.8505326058087292\n"
          ]
        },
        {
          "output_type": "display_data",
          "data": {
            "text/plain": [
              "<Figure size 640x480 with 1 Axes>"
            ],
            "image/png": "[encoded data removed]"
          },
          "metadata": {}
        }
      ],
      "source": [
        "import numpy as np\n",
        "import random\n",
        "import matplotlib.pyplot as plt\n",
        "\n",
        "# Parámetros\n",
        "num_individuos = 30\n",
        "num_generaciones = 100\n",
        "long_cromosoma = 16  # precisión de 2^16 posibles valores\n",
        "prob_crossover = 0.7\n",
        "prob_mutacion = 0.01\n",
        "\n",
        "# Función objetivo\n",
        "def f(x):\n",
        "    return x * np.sin(10 * np.pi * x) + 1\n",
        "\n",
        "# Decodificar binario a real en [0, 1]\n",
        "def binario_a_real(cromosoma):\n",
        "    decimal = int(cromosoma, 2)\n",
        "    return decimal / (2**long_cromosoma - 1)\n",
        "\n",
        "# Crear población inicial\n",
        "def crear_poblacion():\n",
        "    return [''.join(random.choices('01', k=long_cromosoma)) for _ in range(num_individuos)]\n",
        "\n",
        "# Selección por torneo (de 2)\n",
        "def seleccion(poblacion):\n",
        "    a, b = random.sample(poblacion, 2)\n",
        "    return a if f(binario_a_real(a)) > f(binario_a_real(b)) else b\n",
        "\n",
        "# Crossover de un punto\n",
        "def crossover(p1, p2):\n",
        "    if random.random() < prob_crossover:\n",
        "        punto = random.randint(1, long_cromosoma - 1)\n",
        "        return p1[:punto] + p2[punto:], p2[:punto] + p1[punto:]\n",
        "    else:\n",
        "        return p1, p2\n",
        "\n",
        "# Mutación bit a bit\n",
        "def mutar(cromosoma):\n",
        "    return ''.join(\n",
        "        bit if random.random() > prob_mutacion else ('1' if bit == '0' else '0')\n",
        "        for bit in cromosoma\n",
        "    )\n",
        "\n",
        "# Algoritmo genético\n",
        "def algoritmo_genetico():\n",
        "    poblacion = crear_poblacion()\n",
        "    mejores = []\n",
        "\n",
        "    for _ in range(num_generaciones):\n",
        "        nueva_poblacion = []\n",
        "\n",
        "        for _ in range(num_individuos // 2):\n",
        "            p1, p2 = seleccion(poblacion), seleccion(poblacion)\n",
        "            h1, h2 = crossover(p1, p2)\n",
        "            nueva_poblacion += [mutar(h1), mutar(h2)]\n",
        "\n",
        "        poblacion = nueva_poblacion\n",
        "\n",
        "        mejor = max(poblacion, key=lambda c: f(binario_a_real(c)))\n",
        "        mejores.append(f(binario_a_real(mejor)))\n",
        "\n",
        "    return poblacion, mejores\n",
        "\n",
        "# Ejecutar\n",
        "poblacion_final, historial = algoritmo_genetico()\n",
        "\n",
        "# Mostrar mejor resultado\n",
        "mejor_individuo = max(poblacion_final, key=lambda c: f(binario_a_real(c)))\n",
        "mejor_x = binario_a_real(mejor_individuo)\n",
        "print(f\"Mejor x encontrado: {mejor_x}\")\n",
        "print(f\"f(x) = {f(mejor_x)}\")\n",
        "\n",
        "# Graficar evolución\n",
        "plt.plot(historial)\n",
        "plt.title(\"Evolución del fitness máximo\")\n",
        "plt.xlabel(\"Generación\")\n",
        "plt.ylabel(\"Fitness\")\n",
        "plt.grid(True)\n",
        "plt.show()\n"
      ]
    },
    {
      "cell_type": "markdown",
      "source": [],
      "metadata": {
        "id": "p8pWTh1ca_rg"
      }
    }
  ]
}