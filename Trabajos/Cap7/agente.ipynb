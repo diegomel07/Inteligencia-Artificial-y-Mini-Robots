{
  "cells": [
    {
      "cell_type": "markdown",
      "metadata": {},
      "source": [
        "# Agente de IA para la Gestión de Tareas del Curso\n",
        "**Curso:** Inteligencia Artificial y Minirobots  \n",
        "**Ejercicio:** Capítulo 7 - Ejercicio 1\n",
        "\n",
        "Este notebook implementa una versión básica de un asistente virtual utilizando ChatGPT y Python para registrar y gestionar tareas del curso. El objetivo es demostrar cómo un chatbot puede ayudar en la organización académica del estudiante."
      ]
    },
    {
      "cell_type": "markdown",
      "metadata": {},
      "source": [
        "## 1. Objetivo\n",
        "Desarrollar un agente de inteligencia artificial basado en un chatbot (ChatGPT) que permita:\n",
        "- Registrar tareas académicas con fechas\n",
        "- Consultar tareas pendientes\n",
        "- Recordar tareas próximas\n",
        "- Resolver preguntas sobre el curso"
      ]
    },
    {
      "cell_type": "markdown",
      "metadata": {},
      "source": [
        "## 2. Prompt Base para ChatGPT\n",
        "```\n",
        "Eres un asistente académico para el curso de Inteligencia Artificial y Minirobots. Ayudarás a registrar tareas, recordarlas y explicar conceptos del curso. Guarda las tareas en una lista y responde con claridad.\n",
        "```\n"
      ]
    },
    {
      "cell_type": "markdown",
      "metadata": {},
      "source": [
        "## 3. Registro y Consulta de Tareas\n",
        "Se usará un archivo CSV local como base de datos simple para almacenar tareas."
      ]
    },
    {
      "cell_type": "code",
      "execution_count": null,
      "metadata": {},
      "outputs": [],
      "source": [
        "import pandas as pd\n",
        "from datetime import datetime\n",
        "\n",
        "CSV_FILE = \"tareas_minirobots.csv\"\n",
        "\n",
        "def agregar_tarea(nombre, fecha, descripcion):\n",
        "    tarea = pd.DataFrame([[nombre, fecha, descripcion]], columns=[\"Tarea\", \"Fecha\", \"Descripción\"])\n",
        "    try:\n",
        "        df = pd.read_csv(CSV_FILE)\n",
        "        df = pd.concat([df, tarea], ignore_index=True)\n",
        "    except FileNotFoundError:\n",
        "        df = tarea\n",
        "    df.to_csv(CSV_FILE, index=False)\n",
        "    print(f\"✅ Tarea '{nombre}' registrada para el {fecha}.\")"
      ]
    },
    {
      "cell_type": "code",
      "execution_count": null,
      "metadata": {},
      "outputs": [],
      "source": [
        "def consultar_tareas(pendientes_solo=True):\n",
        "    try:\n",
        "        df = pd.read_csv(CSV_FILE)\n",
        "        df[\"Fecha\"] = pd.to_datetime(df[\"Fecha\"])\n",
        "        if pendientes_solo:\n",
        "            hoy = pd.to_datetime(datetime.today().date())\n",
        "            df = df[df[\"Fecha\"] >= hoy]\n",
        "        return df.sort_values(\"Fecha\")\n",
        "    except FileNotFoundError:\n",
        "        print(\"⚠️ No hay tareas registradas aún.\")\n",
        "        return pd.DataFrame()"
      ]
    },
    {
      "cell_type": "markdown",
      "metadata": {},
      "source": [
        "## 4. Simulación de uso\n",
        "Simulamos la entrada de tareas como si se tratara de un diálogo con un agente inteligente."
      ]
    },
    {
      "cell_type": "code",
      "execution_count": null,
      "metadata": {},
      "outputs": [],
      "source": [
        "# Simulación de tareas\n",
        "agregar_tarea(\"Ensayo sobre IA Generativa\", \"2025-08-02\", \"Ensayo de mínimo 2 páginas sobre los beneficios y riesgos de la IA generativa.\")\n",
        "agregar_tarea(\"Entrega de modelo con ACs\", \"2025-08-10\", \"Desarrollar un autómata celular 1D y simularlo en notebook.\")\n",
        "agregar_tarea(\"Presentación final\", \"2025-08-15\", \"Presentación del proyecto final del curso.\")"
      ]
    },
    {
      "cell_type": "code",
      "execution_count": null,
      "metadata": {},
      "outputs": [],
      "source": [
        "# Ver tareas pendientes\n",
        "consultar_tareas()"
      ]
    },
    {
      "cell_type": "markdown",
      "metadata": {},
      "source": [
        "## 5. Conclusión\n",
        "- Este agente simple permite registrar tareas y consultarlas desde un entorno interactivo.\n",
        "- Se puede conectar a ChatGPT para ampliar su funcionalidad: generar explicaciones, planes de estudio, análisis de problemas, etc.\n",
        "- Para versiones más avanzadas se puede usar una interfaz web (Streamlit), integración con calendarios (Google Calendar API), y notificaciones.\n",
        "\n",
        "**Siguiente paso:** agregar recordatorios automáticos con `schedule` o integrar con un chatbot real."
      ]
    }
  ],
  "metadata": {
    "kernelspec": {
      "display_name": "Python 3",
      "language": "python",
      "name": "python3"
    },
    "language_info": {
      "name": "python",
      "version": ""
    }
  },
  "nbformat": 4,
  "nbformat_minor": 2
}
