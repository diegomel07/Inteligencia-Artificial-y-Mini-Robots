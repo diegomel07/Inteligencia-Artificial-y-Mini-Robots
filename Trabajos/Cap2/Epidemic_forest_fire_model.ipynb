{
  "nbformat": 4,
  "nbformat_minor": 0,
  "metadata": {
    "colab": {
      "provenance": []
    },
    "kernelspec": {
      "name": "python3",
      "display_name": "Python 3"
    },
    "language_info": {
      "name": "python"
    }
  },
  "cells": [
    {
      "cell_type": "markdown",
      "source": [
        "Modelo de epidemia que utiliza la analogia de un incendio forestal que se enfoca en un distribucion espacial estática de los organismos y su inﬂuencia en la propagación de una enfermedad infecciosa con un solo evento epidemico.\n",
        "\n",
        "Tomamos un area geografica en forma de cuadrado, representada como el reticulo de nuestro AC, en donde los arboles se distribuyen con una probabilidad dada *p*.\n",
        "\n",
        "Se empieza el fuego quemando un arbol para analizar de que forma se destruye el bosque. Un arbol va a incendierse si al menos alguno de sus vecinos (vecindad de Von Newman) se esta quemando y un arbol se carbonizara si completa un paso de tiempo quemandose."
      ],
      "metadata": {
        "id": "ajmeVdWoG5v_"
      }
    },
    {
      "cell_type": "code",
      "execution_count": null,
      "metadata": {
        "id": "JHGZjfqfTglT"
      },
      "outputs": [],
      "source": [
        "EMPTY = 0        # terreno vacio\n",
        "TREE = 1         # árbol sano\n",
        "FIRE = 2         # árbol en llamas\n",
        "CHARRED = 3      # árbol quemado"
      ]
    },
    {
      "cell_type": "code",
      "source": [
        "import numpy as np\n",
        "\n",
        "def initialize_grid(size, tree_prob=0.1):\n",
        "  grid = np.zeros((size, size), dtype=int)  # terreno vacio\n",
        "  # Colocamos algunos árboles al azar\n",
        "  tree_mask = np.random.rand(size,size) < tree_prob\n",
        "  grid[tree_mask] = TREE\n",
        "  grid[np.random.randint(0,size)][np.random.randint(0,size)] = FIRE\n",
        "  return grid"
      ],
      "metadata": {
        "id": "s1kAvFDszlBW"
      },
      "execution_count": null,
      "outputs": []
    },
    {
      "cell_type": "code",
      "source": [
        "def update(grid):\n",
        "  new_grid = grid.copy()\n",
        "  size = grid.shape[0]\n",
        "  for i in range(size):\n",
        "    for j in range(size):\n",
        "      if grid[i, j] == TREE:\n",
        "        # revisar vecinos\n",
        "        neighbors_on_fire = False\n",
        "        for dx in [-1, 0, 1]:\n",
        "          for dy in [-1, 0, 1]:\n",
        "            ni, nj = i + dx, j + dy\n",
        "            if 0 <= ni < size and 0 <= nj < size:\n",
        "              if (dx != 0 or dy != 0) and grid[ni, nj] == FIRE:\n",
        "                  new_grid[i, j] = FIRE\n",
        "      elif grid[i, j] == FIRE:\n",
        "        new_grid[i, j] = CHARRED\n",
        "  return new_grid\n"
      ],
      "metadata": {
        "id": "8bOnUCfMznTz"
      },
      "execution_count": null,
      "outputs": []
    },
    {
      "cell_type": "code",
      "source": [
        "import matplotlib.pyplot as plt\n",
        "\n",
        "def animate_fire(size=50, steps=100):\n",
        "  grid = initialize_grid(size, 0.6)\n",
        "  fig, ax = plt.subplots()\n",
        "\n",
        "  for step in range(steps):\n",
        "    grid = update(grid)\n",
        "\n",
        "  ax.imshow(grid, cmap='Greys', vmin=0, vmax=3)\n",
        "\n",
        "\n",
        "animate_fire()\n"
      ],
      "metadata": {
        "id": "OLop_EZhzo_J",
        "colab": {
          "base_uri": "https://localhost:8080/",
          "height": 432
        },
        "outputId": "ecb0fa9d-8f73-42cb-84e3-49558753ff61"
      },
      "execution_count": null,
      "outputs": [
        {
          "output_type": "display_data",
          "data": {
            "text/plain": [
              "<Figure size 640x480 with 1 Axes>"
            ],
            "image/png": "[encoded data removed]"
          },
          "metadata": {}
        }
      ]
    }
  ]
}